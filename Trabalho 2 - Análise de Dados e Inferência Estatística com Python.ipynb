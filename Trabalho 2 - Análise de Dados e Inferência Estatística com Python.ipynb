{
 "cells": [
  {
   "cell_type": "markdown",
   "metadata": {},
   "source": [
    "## Trabalho 2 - Análise de Dados e Inferência Estatística com Python\n",
    "\n",
    "#### *Professor:* Paulo Cotta\n",
    "\n",
    "#### *Data de entrega:* 17/12/2019\n",
    "\n",
    "#### *Envio do trabalho:* paulovpcotta@gmail.com"
   ]
  },
  {
   "cell_type": "markdown",
   "metadata": {},
   "source": [
    "### Enunciado\n",
    "\n",
    "##### Problema que deve ser resolvido\n",
    "Todos os anos, incêndios florestais ocorrem no Brasil, em todas as regiões do país. Neste trabalho devemos classificar os meses que possuem maior taxa de incêndio, tentando classificar, com base nos dados/variáveis de entrada fornecidos, se é um mês que pode conter incêndio ou não.\n",
    "Não pode ser utilizado IF, SWITCH, entre outros comandos, apenas os algoritmos que foram indicados para uso.\n",
    "A técnica de dividir o dataset em 80% para treino, 10% para testes e 10% para validação deve ser considerada.\n",
    "\n",
    "##### Dataset\n",
    "Este relatório contém o conjunto de dados do número de incêndios florestais no Brasil, dividido por Estados. A série compreende o período de 20 anos (1998 a 2017). Os dados foram obtidos no site oficial do governo brasileiro. Link: http://dados.gov.br/dataset/sistema-nacional-de-informacoes-florestais-snif.\n",
    "\n",
    "As colunas constantes no dataset são:\n",
    "* Year: ano catalogado, para o estado observado;\n",
    "* State: Estado em que foi observado;\n",
    "* Month: mês da observação catalogada;\n",
    "* Number: número de incêndios, caso tenha ocorrido no processo observado e catalogado;\n",
    "* Date: Data de catalogação do evento."
   ]
  },
  {
   "cell_type": "code",
   "execution_count": 1,
   "metadata": {},
   "outputs": [],
   "source": [
    "# Imports\n",
    "import numpy as np\n",
    "import pandas as pd"
   ]
  },
  {
   "cell_type": "code",
   "execution_count": 3,
   "metadata": {},
   "outputs": [
    {
     "data": {
      "text/html": [
       "<div>\n",
       "<style scoped>\n",
       "    .dataframe tbody tr th:only-of-type {\n",
       "        vertical-align: middle;\n",
       "    }\n",
       "\n",
       "    .dataframe tbody tr th {\n",
       "        vertical-align: top;\n",
       "    }\n",
       "\n",
       "    .dataframe thead th {\n",
       "        text-align: right;\n",
       "    }\n",
       "</style>\n",
       "<table border=\"1\" class=\"dataframe\">\n",
       "  <thead>\n",
       "    <tr style=\"text-align: right;\">\n",
       "      <th></th>\n",
       "      <th>year</th>\n",
       "      <th>state</th>\n",
       "      <th>month</th>\n",
       "      <th>number</th>\n",
       "      <th>date</th>\n",
       "    </tr>\n",
       "  </thead>\n",
       "  <tbody>\n",
       "    <tr>\n",
       "      <th>0</th>\n",
       "      <td>1998</td>\n",
       "      <td>Acre</td>\n",
       "      <td>Janeiro</td>\n",
       "      <td>0.0</td>\n",
       "      <td>1998-01-01</td>\n",
       "    </tr>\n",
       "    <tr>\n",
       "      <th>1</th>\n",
       "      <td>1999</td>\n",
       "      <td>Acre</td>\n",
       "      <td>Janeiro</td>\n",
       "      <td>0.0</td>\n",
       "      <td>1999-01-01</td>\n",
       "    </tr>\n",
       "    <tr>\n",
       "      <th>2</th>\n",
       "      <td>2000</td>\n",
       "      <td>Acre</td>\n",
       "      <td>Janeiro</td>\n",
       "      <td>0.0</td>\n",
       "      <td>2000-01-01</td>\n",
       "    </tr>\n",
       "    <tr>\n",
       "      <th>3</th>\n",
       "      <td>2001</td>\n",
       "      <td>Acre</td>\n",
       "      <td>Janeiro</td>\n",
       "      <td>0.0</td>\n",
       "      <td>2001-01-01</td>\n",
       "    </tr>\n",
       "    <tr>\n",
       "      <th>4</th>\n",
       "      <td>2002</td>\n",
       "      <td>Acre</td>\n",
       "      <td>Janeiro</td>\n",
       "      <td>0.0</td>\n",
       "      <td>2002-01-01</td>\n",
       "    </tr>\n",
       "    <tr>\n",
       "      <th>5</th>\n",
       "      <td>2003</td>\n",
       "      <td>Acre</td>\n",
       "      <td>Janeiro</td>\n",
       "      <td>10.0</td>\n",
       "      <td>2003-01-01</td>\n",
       "    </tr>\n",
       "    <tr>\n",
       "      <th>6</th>\n",
       "      <td>2004</td>\n",
       "      <td>Acre</td>\n",
       "      <td>Janeiro</td>\n",
       "      <td>0.0</td>\n",
       "      <td>2004-01-01</td>\n",
       "    </tr>\n",
       "    <tr>\n",
       "      <th>7</th>\n",
       "      <td>2005</td>\n",
       "      <td>Acre</td>\n",
       "      <td>Janeiro</td>\n",
       "      <td>12.0</td>\n",
       "      <td>2005-01-01</td>\n",
       "    </tr>\n",
       "    <tr>\n",
       "      <th>8</th>\n",
       "      <td>2006</td>\n",
       "      <td>Acre</td>\n",
       "      <td>Janeiro</td>\n",
       "      <td>4.0</td>\n",
       "      <td>2006-01-01</td>\n",
       "    </tr>\n",
       "    <tr>\n",
       "      <th>9</th>\n",
       "      <td>2007</td>\n",
       "      <td>Acre</td>\n",
       "      <td>Janeiro</td>\n",
       "      <td>0.0</td>\n",
       "      <td>2007-01-01</td>\n",
       "    </tr>\n",
       "  </tbody>\n",
       "</table>\n",
       "</div>"
      ],
      "text/plain": [
       "   year state    month  number        date\n",
       "0  1998  Acre  Janeiro     0.0  1998-01-01\n",
       "1  1999  Acre  Janeiro     0.0  1999-01-01\n",
       "2  2000  Acre  Janeiro     0.0  2000-01-01\n",
       "3  2001  Acre  Janeiro     0.0  2001-01-01\n",
       "4  2002  Acre  Janeiro     0.0  2002-01-01\n",
       "5  2003  Acre  Janeiro    10.0  2003-01-01\n",
       "6  2004  Acre  Janeiro     0.0  2004-01-01\n",
       "7  2005  Acre  Janeiro    12.0  2005-01-01\n",
       "8  2006  Acre  Janeiro     4.0  2006-01-01\n",
       "9  2007  Acre  Janeiro     0.0  2007-01-01"
      ]
     },
     "execution_count": 3,
     "metadata": {},
     "output_type": "execute_result"
    }
   ],
   "source": [
    "florestas=pd.read_csv('amazon.csv', encoding='latin1')\n",
    "florestas.head(10)"
   ]
  },
  {
   "cell_type": "markdown",
   "metadata": {},
   "source": [
    "### Questão 1\n",
    "\n",
    "Você deve pegar o dataset e agrupar os dados para identificar qual é(são) o(s) Estado(s) que tem maior incidência de queima ou incêndio nos meses entre Janeiro à Dezembro. O seu eixo Y deve conter o ano, entre 1998 a 2017.\n",
    "\n",
    "Após o agrupamento, você deve plotar o gráfico dos 10 Estados com maior número de incêndios e como ficou a distribuição dos incêndios."
   ]
  },
  {
   "cell_type": "code",
   "execution_count": 4,
   "metadata": {},
   "outputs": [],
   "source": [
    "# Código aqui"
   ]
  },
  {
   "cell_type": "markdown",
   "metadata": {},
   "source": [
    "### Questão 2\n",
    "\n",
    "Faça um modelo baseado em K-means ou KNN ou SVM que mostre a distribuição dos clusters e consiga classificar se é um mês que pode possuir incêndios. Deve-se plotar o gráfico demonstrando a dispersão dos clusters."
   ]
  },
  {
   "cell_type": "code",
   "execution_count": 5,
   "metadata": {},
   "outputs": [],
   "source": [
    "# Código aqui"
   ]
  }
 ],
 "metadata": {
  "kernelspec": {
   "display_name": "Python 3",
   "language": "python",
   "name": "python3"
  },
  "language_info": {
   "codemirror_mode": {
    "name": "ipython",
    "version": 3
   },
   "file_extension": ".py",
   "mimetype": "text/x-python",
   "name": "python",
   "nbconvert_exporter": "python",
   "pygments_lexer": "ipython3",
   "version": "3.6.9"
  }
 },
 "nbformat": 4,
 "nbformat_minor": 2
}
